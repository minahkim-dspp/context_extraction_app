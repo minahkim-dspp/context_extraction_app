{
 "cells": [
  {
   "cell_type": "markdown",
   "metadata": {},
   "source": [
    "# Application Test"
   ]
  },
  {
   "cell_type": "code",
   "execution_count": null,
   "metadata": {},
   "outputs": [],
   "source": [
    "# Import Packages and Modules\n",
    "import time\n",
    "from datetime import date\n",
    "import pandas as pd\n",
    "from document import Document\n",
    "\n",
    "# Constant\n",
    "PATH = \"../../../2_document/\"\n",
    "SAVING_PATH = \"../../../3_result/\"\n"
   ]
  },
  {
   "cell_type": "code",
   "execution_count": null,
   "metadata": {},
   "outputs": [
    {
     "data": {
      "text/plain": [
       "['handbook_for_small-scale_seed_producers2011.pdf',\n",
       " 'African Eggplant Seed Production_English.pdf']"
      ]
     },
     "execution_count": 2,
     "metadata": {},
     "output_type": "execute_result"
    }
   ],
   "source": [
    "# List of Sample Documents\n",
    "dir_list_sample = [\"handbook_for_small-scale_seed_producers2011.pdf\", \"African Eggplant Seed Production_English.pdf\"]\n",
    "dir_list_sample"
   ]
  },
  {
   "cell_type": "markdown",
   "metadata": {},
   "source": [
    "### Extract Geographical Entity"
   ]
  },
  {
   "cell_type": "markdown",
   "metadata": {},
   "source": [
    "1. Using Agriculture NER model"
   ]
  },
  {
   "cell_type": "code",
   "execution_count": null,
   "metadata": {},
   "outputs": [
    {
     "name": "stderr",
     "output_type": "stream",
     "text": [
      "c:\\Users\\MinAhKim\\AppData\\Local\\anaconda3\\envs\\gaia\\Lib\\site-packages\\pypdfium2\\_helpers\\textpage.py:81: UserWarning: get_text_range() call with default params will be implicitly redirected to get_text_bounded()\n",
      "  warnings.warn(\"get_text_range() call with default params will be implicitly redirected to get_text_bounded()\")\n"
     ]
    }
   ],
   "source": [
    "# Set up the document - Chunk size 500\n",
    "document = Document(PATH+dir_list_sample[0], chunk_size=500)"
   ]
  },
  {
   "cell_type": "code",
   "execution_count": null,
   "metadata": {},
   "outputs": [
    {
     "name": "stdout",
     "output_type": "stream",
     "text": [
      "Geographical Extraction:  290.453125\n"
     ]
    }
   ],
   "source": [
    "# Measure time for the ORKG Agri-NER to run\n",
    "# Apply ORKG Agri-NER\n",
    "time_start = time.process_time()\n",
    "document.geographical_extraction(method=\"agriculture-ner\")\n",
    "time_end = time.process_time()\n",
    "\n",
    "print(\"Geographical Extraction: \", str(time_end - time_start))"
   ]
  },
  {
   "cell_type": "code",
   "execution_count": null,
   "metadata": {},
   "outputs": [
    {
     "data": {
      "text/html": [
       "<div>\n",
       "<style scoped>\n",
       "    .dataframe tbody tr th:only-of-type {\n",
       "        vertical-align: middle;\n",
       "    }\n",
       "\n",
       "    .dataframe tbody tr th {\n",
       "        vertical-align: top;\n",
       "    }\n",
       "\n",
       "    .dataframe thead th {\n",
       "        text-align: right;\n",
       "    }\n",
       "</style>\n",
       "<table border=\"1\" class=\"dataframe\">\n",
       "  <thead>\n",
       "    <tr style=\"text-align: right;\">\n",
       "      <th></th>\n",
       "      <th>token</th>\n",
       "      <th>source</th>\n",
       "    </tr>\n",
       "  </thead>\n",
       "  <tbody>\n",
       "    <tr>\n",
       "      <th>10</th>\n",
       "      <td>tropics</td>\n",
       "      <td>cosmopolitan and attack seedlings of many crop...</td>\n",
       "    </tr>\n",
       "    <tr>\n",
       "      <th>11</th>\n",
       "      <td>Africa</td>\n",
       "      <td>and Pest Identification and Management 3 Bean ...</td>\n",
       "    </tr>\n",
       "    <tr>\n",
       "      <th>13</th>\n",
       "      <td>Tanzania</td>\n",
       "      <td>caused by the adult beetles (Fig. 7) but larva...</td>\n",
       "    </tr>\n",
       "    <tr>\n",
       "      <th>21</th>\n",
       "      <td>eastern Africa</td>\n",
       "      <td>[Mexican bean weevil (MBW)] and Acanthoscelide...</td>\n",
       "    </tr>\n",
       "    <tr>\n",
       "      <th>36</th>\n",
       "      <td>Africa</td>\n",
       "      <td>aeration and reduce disease development ■ Mulc...</td>\n",
       "    </tr>\n",
       "    <tr>\n",
       "      <th>37</th>\n",
       "      <td>humid lowland tropical regions</td>\n",
       "      <td>aeration and reduce disease development ■ Mulc...</td>\n",
       "    </tr>\n",
       "  </tbody>\n",
       "</table>\n",
       "</div>"
      ],
      "text/plain": [
       "                             token  \\\n",
       "10                         tropics   \n",
       "11                          Africa   \n",
       "13                        Tanzania   \n",
       "21                  eastern Africa   \n",
       "36                          Africa   \n",
       "37  humid lowland tropical regions   \n",
       "\n",
       "                                               source  \n",
       "10  cosmopolitan and attack seedlings of many crop...  \n",
       "11  and Pest Identification and Management 3 Bean ...  \n",
       "13  caused by the adult beetles (Fig. 7) but larva...  \n",
       "21  [Mexican bean weevil (MBW)] and Acanthoscelide...  \n",
       "36  aeration and reduce disease development ■ Mulc...  \n",
       "37  aeration and reduce disease development ■ Mulc...  "
      ]
     },
     "execution_count": 5,
     "metadata": {},
     "output_type": "execute_result"
    }
   ],
   "source": [
    "# See result\n",
    "document.geographical_result.drop([\"index\"], axis=1)"
   ]
  },
  {
   "cell_type": "code",
   "execution_count": null,
   "metadata": {},
   "outputs": [],
   "source": [
    "# Save Result to csv\n",
    "document.geographical_result.to_csv(SAVING_PATH+document.name+\"_\"+\"geographical-result\"+\"_\"+str(date.today())+\".csv\")"
   ]
  },
  {
   "cell_type": "markdown",
   "metadata": {},
   "source": [
    "2. Using RAG"
   ]
  },
  {
   "cell_type": "code",
   "execution_count": null,
   "metadata": {},
   "outputs": [
    {
     "name": "stderr",
     "output_type": "stream",
     "text": [
      "c:\\Users\\MinAhKim\\AppData\\Local\\anaconda3\\envs\\gaia\\Lib\\site-packages\\pypdfium2\\_helpers\\textpage.py:81: UserWarning: get_text_range() call with default params will be implicitly redirected to get_text_bounded()\n",
      "  warnings.warn(\"get_text_range() call with default params will be implicitly redirected to get_text_bounded()\")\n"
     ]
    }
   ],
   "source": [
    "# Set up the document - Chunk size 1024\n",
    "document = Document(PATH+dir_list_sample[0], chunk_size=1024)"
   ]
  },
  {
   "cell_type": "code",
   "execution_count": null,
   "metadata": {},
   "outputs": [
    {
     "data": {
      "text/plain": [
       "391.59375"
      ]
     },
     "execution_count": 8,
     "metadata": {},
     "output_type": "execute_result"
    }
   ],
   "source": [
    "# Measure time for the RAG pipeline to run\n",
    "# Apply RAG\n",
    "time_start = time.process_time()\n",
    "document.geographical_extraction(method = 'rag', unit_of_analysis = 'chunk')\n",
    "time_end = time.process_time()\n",
    "time_end - time_start"
   ]
  },
  {
   "cell_type": "code",
   "execution_count": null,
   "metadata": {},
   "outputs": [
    {
     "data": {
      "text/html": [
       "<div>\n",
       "<style scoped>\n",
       "    .dataframe tbody tr th:only-of-type {\n",
       "        vertical-align: middle;\n",
       "    }\n",
       "\n",
       "    .dataframe tbody tr th {\n",
       "        vertical-align: top;\n",
       "    }\n",
       "\n",
       "    .dataframe thead th {\n",
       "        text-align: right;\n",
       "    }\n",
       "</style>\n",
       "<table border=\"1\" class=\"dataframe\">\n",
       "  <thead>\n",
       "    <tr style=\"text-align: right;\">\n",
       "      <th></th>\n",
       "      <th>Location</th>\n",
       "      <th>Activity</th>\n",
       "      <th>Confidence</th>\n",
       "      <th>Text</th>\n",
       "    </tr>\n",
       "  </thead>\n",
       "  <tbody>\n",
       "    <tr>\n",
       "      <th>0</th>\n",
       "      <td>Eastern Africa</td>\n",
       "      <td>Managing a disease affecting crops by using re...</td>\n",
       "      <td>0.9</td>\n",
       "      <td>Use of resistant varieties where available, e....</td>\n",
       "    </tr>\n",
       "    <tr>\n",
       "      <th>1</th>\n",
       "      <td>Africa's bean growing regions</td>\n",
       "      <td>Growing beans</td>\n",
       "      <td>0.9</td>\n",
       "      <td>throughout Africa’s bean growing regions, and ...</td>\n",
       "    </tr>\n",
       "    <tr>\n",
       "      <th>2</th>\n",
       "      <td>Eastern Uganda</td>\n",
       "      <td>Working with small scale seed producing enterp...</td>\n",
       "      <td>0.8</td>\n",
       "      <td>and other service providers assisting seed pro...</td>\n",
       "    </tr>\n",
       "    <tr>\n",
       "      <th>3</th>\n",
       "      <td>South Africa</td>\n",
       "      <td>Seedling pest identification and management fo...</td>\n",
       "      <td>0.9</td>\n",
       "      <td>Seed Producers Photo Credits Ampofo, J.K.O. 1,...</td>\n",
       "    </tr>\n",
       "    <tr>\n",
       "      <th>4</th>\n",
       "      <td>Africa</td>\n",
       "      <td>Baiting larvae with straw mixed with insectici...</td>\n",
       "      <td>0.9</td>\n",
       "      <td>efforts beyond digging about 5 cm into the soi...</td>\n",
       "    </tr>\n",
       "    <tr>\n",
       "      <th>5</th>\n",
       "      <td>Eastern Africa</td>\n",
       "      <td>Common bean weevil (CBW) is more frequently en...</td>\n",
       "      <td>0.9</td>\n",
       "      <td>(MBW)] and Acanthoscelides obtectus [Common be...</td>\n",
       "    </tr>\n",
       "    <tr>\n",
       "      <th>6</th>\n",
       "      <td>Africa</td>\n",
       "      <td>Planting clean disease-free seeds, planting ea...</td>\n",
       "      <td>0.9</td>\n",
       "      <td>known to have BCMNV ■ Planting clean disease f...</td>\n",
       "    </tr>\n",
       "    <tr>\n",
       "      <th>7</th>\n",
       "      <td>Africa</td>\n",
       "      <td>Whitefly populations may build up in large col...</td>\n",
       "      <td>0.9</td>\n",
       "      <td>and occurs in nearly all bean growing ecologie...</td>\n",
       "    </tr>\n",
       "    <tr>\n",
       "      <th>8</th>\n",
       "      <td>Malawi, South Africa, Tanzania, Zambia, Uganda</td>\n",
       "      <td>Planting resistant cultivars such as AND 277, ...</td>\n",
       "      <td>0.9</td>\n",
       "      <td>splashes of water and windblown rain. Figure 4...</td>\n",
       "    </tr>\n",
       "    <tr>\n",
       "      <th>9</th>\n",
       "      <td>Africa</td>\n",
       "      <td>Spraying bean crops with registered copper-bas...</td>\n",
       "      <td>0.8</td>\n",
       "      <td>Almonga, GLP 92 (pinto) ■ Avoiding movement of...</td>\n",
       "    </tr>\n",
       "    <tr>\n",
       "      <th>10</th>\n",
       "      <td>Africa</td>\n",
       "      <td>Removing all infected seedlings from the field...</td>\n",
       "      <td>0.7</td>\n",
       "      <td>Almonga, GLP 92 (pinto) ■ Avoiding movement of...</td>\n",
       "    </tr>\n",
       "    <tr>\n",
       "      <th>11</th>\n",
       "      <td>Northern Tanzania</td>\n",
       "      <td>Adult beetles emerge in mid-March and start eg...</td>\n",
       "      <td>1</td>\n",
       "      <td>of the crop. The presence of young seedlings o...</td>\n",
       "    </tr>\n",
       "    <tr>\n",
       "      <th>12</th>\n",
       "      <td>Africa</td>\n",
       "      <td>Snap bean production</td>\n",
       "      <td>0.8</td>\n",
       "      <td>snap bean production environments, where persi...</td>\n",
       "    </tr>\n",
       "    <tr>\n",
       "      <th>13</th>\n",
       "      <td>Ethiopia, Madagascar, D.R. Congo</td>\n",
       "      <td>The activity mentioned is the occurrence of Rh...</td>\n",
       "      <td>1</td>\n",
       "      <td>in humid lowland tropical regions characterise...</td>\n",
       "    </tr>\n",
       "    <tr>\n",
       "      <th>14</th>\n",
       "      <td>Africa</td>\n",
       "      <td>Managing powdery mildew disease on beans by im...</td>\n",
       "      <td>0.9</td>\n",
       "      <td>free seed ■ Wide spacing to maximise air circu...</td>\n",
       "    </tr>\n",
       "    <tr>\n",
       "      <th>15</th>\n",
       "      <td>Kampala, Uganda</td>\n",
       "      <td>Bean disease and pest identification and manag...</td>\n",
       "      <td>1</td>\n",
       "      <td>developed by the International Centre for Trop...</td>\n",
       "    </tr>\n",
       "    <tr>\n",
       "      <th>16</th>\n",
       "      <td>Africa</td>\n",
       "      <td>Ascochyta Leaf Spot disease occurs widely thro...</td>\n",
       "      <td>0.9</td>\n",
       "      <td>or systemic fungicides e.g., Kocide Bean Disea...</td>\n",
       "    </tr>\n",
       "    <tr>\n",
       "      <th>17</th>\n",
       "      <td>Uganda</td>\n",
       "      <td>Integrated pest management for Phaseolus vulga...</td>\n",
       "      <td>1</td>\n",
       "      <td>1. Phaseolus vulgaris. 2. Plant diseases. 3. D...</td>\n",
       "    </tr>\n",
       "    <tr>\n",
       "      <th>18</th>\n",
       "      <td>Africa</td>\n",
       "      <td>Roguing and burning infected bean plants, plan...</td>\n",
       "      <td>0.9</td>\n",
       "      <td>as Thiram, Murtano, etc. ■ Roguing and burning...</td>\n",
       "    </tr>\n",
       "    <tr>\n",
       "      <th>19</th>\n",
       "      <td>Kampala, Uganda</td>\n",
       "      <td>Contacting CIAT Africa Coordinator for more in...</td>\n",
       "      <td>1</td>\n",
       "      <td>David Handbook Two: Business Skills for Small-...</td>\n",
       "    </tr>\n",
       "    <tr>\n",
       "      <th>20</th>\n",
       "      <td>Africa</td>\n",
       "      <td>Small-scale seed producers are dealing with th...</td>\n",
       "      <td>0.9</td>\n",
       "      <td>Small-Scale Seed Producers MALFORMATION AND DI...</td>\n",
       "    </tr>\n",
       "    <tr>\n",
       "      <th>21</th>\n",
       "      <td>Africa</td>\n",
       "      <td>Pod bugs such as C. hystricodes, Riptortus, Gi...</td>\n",
       "      <td>0.9</td>\n",
       "      <td>C. hystricodes, Riptortus (Riptortus dentipes)...</td>\n",
       "    </tr>\n",
       "    <tr>\n",
       "      <th>22</th>\n",
       "      <td>Africa</td>\n",
       "      <td>The main activity mentioned is the identificat...</td>\n",
       "      <td>0.9</td>\n",
       "      <td>clusters on the underside of leaves. First ins...</td>\n",
       "    </tr>\n",
       "    <tr>\n",
       "      <th>23</th>\n",
       "      <td>Africa</td>\n",
       "      <td>Whitefly infestation affecting bean crops</td>\n",
       "      <td>0.9</td>\n",
       "      <td>and pods. Figure 25a. Black bean aphid colony ...</td>\n",
       "    </tr>\n",
       "  </tbody>\n",
       "</table>\n",
       "</div>"
      ],
      "text/plain": [
       "                                          Location  \\\n",
       "0                                   Eastern Africa   \n",
       "1                    Africa's bean growing regions   \n",
       "2                                   Eastern Uganda   \n",
       "3                                     South Africa   \n",
       "4                                           Africa   \n",
       "5                                   Eastern Africa   \n",
       "6                                           Africa   \n",
       "7                                           Africa   \n",
       "8   Malawi, South Africa, Tanzania, Zambia, Uganda   \n",
       "9                                           Africa   \n",
       "10                                          Africa   \n",
       "11                               Northern Tanzania   \n",
       "12                                          Africa   \n",
       "13                Ethiopia, Madagascar, D.R. Congo   \n",
       "14                                          Africa   \n",
       "15                                 Kampala, Uganda   \n",
       "16                                          Africa   \n",
       "17                                          Uganda   \n",
       "18                                          Africa   \n",
       "19                                 Kampala, Uganda   \n",
       "20                                          Africa   \n",
       "21                                          Africa   \n",
       "22                                          Africa   \n",
       "23                                          Africa   \n",
       "\n",
       "                                             Activity Confidence  \\\n",
       "0   Managing a disease affecting crops by using re...        0.9   \n",
       "1                                       Growing beans        0.9   \n",
       "2   Working with small scale seed producing enterp...        0.8   \n",
       "3   Seedling pest identification and management fo...        0.9   \n",
       "4   Baiting larvae with straw mixed with insectici...        0.9   \n",
       "5   Common bean weevil (CBW) is more frequently en...        0.9   \n",
       "6   Planting clean disease-free seeds, planting ea...        0.9   \n",
       "7   Whitefly populations may build up in large col...        0.9   \n",
       "8   Planting resistant cultivars such as AND 277, ...        0.9   \n",
       "9   Spraying bean crops with registered copper-bas...        0.8   \n",
       "10  Removing all infected seedlings from the field...        0.7   \n",
       "11  Adult beetles emerge in mid-March and start eg...          1   \n",
       "12                               Snap bean production        0.8   \n",
       "13  The activity mentioned is the occurrence of Rh...          1   \n",
       "14  Managing powdery mildew disease on beans by im...        0.9   \n",
       "15  Bean disease and pest identification and manag...          1   \n",
       "16  Ascochyta Leaf Spot disease occurs widely thro...        0.9   \n",
       "17  Integrated pest management for Phaseolus vulga...          1   \n",
       "18  Roguing and burning infected bean plants, plan...        0.9   \n",
       "19  Contacting CIAT Africa Coordinator for more in...          1   \n",
       "20  Small-scale seed producers are dealing with th...        0.9   \n",
       "21  Pod bugs such as C. hystricodes, Riptortus, Gi...        0.9   \n",
       "22  The main activity mentioned is the identificat...        0.9   \n",
       "23          Whitefly infestation affecting bean crops        0.9   \n",
       "\n",
       "                                                 Text  \n",
       "0   Use of resistant varieties where available, e....  \n",
       "1   throughout Africa’s bean growing regions, and ...  \n",
       "2   and other service providers assisting seed pro...  \n",
       "3   Seed Producers Photo Credits Ampofo, J.K.O. 1,...  \n",
       "4   efforts beyond digging about 5 cm into the soi...  \n",
       "5   (MBW)] and Acanthoscelides obtectus [Common be...  \n",
       "6   known to have BCMNV ■ Planting clean disease f...  \n",
       "7   and occurs in nearly all bean growing ecologie...  \n",
       "8   splashes of water and windblown rain. Figure 4...  \n",
       "9   Almonga, GLP 92 (pinto) ■ Avoiding movement of...  \n",
       "10  Almonga, GLP 92 (pinto) ■ Avoiding movement of...  \n",
       "11  of the crop. The presence of young seedlings o...  \n",
       "12  snap bean production environments, where persi...  \n",
       "13  in humid lowland tropical regions characterise...  \n",
       "14  free seed ■ Wide spacing to maximise air circu...  \n",
       "15  developed by the International Centre for Trop...  \n",
       "16  or systemic fungicides e.g., Kocide Bean Disea...  \n",
       "17  1. Phaseolus vulgaris. 2. Plant diseases. 3. D...  \n",
       "18  as Thiram, Murtano, etc. ■ Roguing and burning...  \n",
       "19  David Handbook Two: Business Skills for Small-...  \n",
       "20  Small-Scale Seed Producers MALFORMATION AND DI...  \n",
       "21  C. hystricodes, Riptortus (Riptortus dentipes)...  \n",
       "22  clusters on the underside of leaves. First ins...  \n",
       "23  and pods. Figure 25a. Black bean aphid colony ...  "
      ]
     },
     "execution_count": 9,
     "metadata": {},
     "output_type": "execute_result"
    }
   ],
   "source": [
    "# Check Result\n",
    "document.rag_result"
   ]
  },
  {
   "cell_type": "code",
   "execution_count": null,
   "metadata": {},
   "outputs": [],
   "source": [
    "# Save result to csv\n",
    "document.rag_result.to_csv(SAVING_PATH+document.name+\"_rag_result_\"+str(date.today())+\".csv\")"
   ]
  }
 ],
 "metadata": {
  "kernelspec": {
   "display_name": "Python 3 (ipykernel)",
   "language": "python",
   "name": "python3"
  },
  "language_info": {
   "codemirror_mode": {
    "name": "ipython",
    "version": 3
   },
   "file_extension": ".py",
   "mimetype": "text/x-python",
   "name": "python",
   "nbconvert_exporter": "python",
   "pygments_lexer": "ipython3",
   "version": "3.11.5"
  }
 },
 "nbformat": 4,
 "nbformat_minor": 4
}
